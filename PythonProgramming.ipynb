{
 "cells": [
  {
   "cell_type": "markdown",
   "id": "0d09a1f2",
   "metadata": {},
   "source": []
  },
  {
   "cell_type": "code",
   "execution_count": 17,
   "id": "21c407eb",
   "metadata": {},
   "outputs": [
    {
     "name": "stdout",
     "output_type": "stream",
     "text": [
      "True\n",
      "False\n"
     ]
    }
   ],
   "source": [
    "def inside(x, y, x1, y1, x2, y2):\n",
    "    if x > x1 and x < x2 and y > y1 and y < y2:\n",
    "        print(\"True\")\n",
    "    else:\n",
    "        print(\"False\")\n",
    "inside(1, 1, 0, 0, 2, 3)\n",
    "inside(-1, -1, 0, 0, 2, 3)"
   ]
  },
  {
   "cell_type": "markdown",
   "id": "eea714b7",
   "metadata": {},
   "source": [
    "Q5.B Use function inside() from part a to write an expression that tests whether the point (1,1) lies in both of the rectangles, one with lower left corner(0.3,0.5) and upper right (1.1,0.7) and other lower left corner (0.5,0.2) and upper right(1.1,2)"
   ]
  },
  {
   "cell_type": "code",
   "execution_count": 2,
   "id": "4471515d",
   "metadata": {},
   "outputs": [
    {
     "ename": "SyntaxError",
     "evalue": "invalid syntax (2381242635.py, line 1)",
     "output_type": "error",
     "traceback": [
      "\u001b[0;36m  Input \u001b[0;32mIn [2]\u001b[0;36m\u001b[0m\n\u001b[0;31m    static bool inside(double x, double y, double x1, double y1, double x2, double y2)\u001b[0m\n\u001b[0m           ^\u001b[0m\n\u001b[0;31mSyntaxError\u001b[0m\u001b[0;31m:\u001b[0m invalid syntax\n"
     ]
    }
   ],
   "source": [
    "static bool inside(double x, double y, double x1, double y1, double x2, double y2)\n",
    "{\n",
    "    if (x >= x1 && x <= x2 && y >= y1 && y <= y2)\n",
    "    {\n",
    "        Console.WriteLine(\"True\");\n",
    "        return true;\n",
    "\n",
    "    }\n",
    "    else\n",
    "    {\n",
    "        Console.WriteLine(\"False\");\n",
    "        return false;\n",
    "    }\n",
    "       \n",
    "}\n",
    "\n",
    "bool ex1 = inside(1, 1, 0.3, 0.5, 1.1, 0.7);\n",
    "bool ex2 = inside(1, 1, 0.5, 0.2, 1.1, 2);"
   ]
  },
  {
   "cell_type": "markdown",
   "id": "28f91aab",
   "metadata": {},
   "source": [
    "Q6. you can turn a word into pig-latin using the two rules\n",
    "If word starts with consonant, move that letter and append \"ay\"\n",
    "If starts with vowel simply append \"way\""
   ]
  },
  {
   "cell_type": "code",
   "execution_count": 19,
   "id": "8112d281",
   "metadata": {},
   "outputs": [
    {
     "name": "stdout",
     "output_type": "stream",
     "text": [
      "appyhay\n",
      "enterway\n"
     ]
    }
   ],
   "source": [
    "def pig(state):\n",
    "    if state[0] == 'a' or state[0] == 'e' or state[0] == 'i' or state[0] == 'o' or state[0] == 'u':\n",
    "        print(state + \"way\")\n",
    "    else:\n",
    "        firstLetter = state[0]\n",
    "        print(state[1:] + firstLetter + \"ay\")\n",
    "pig(\"happy\")\n",
    "pig(\"enter\")"
   ]
  },
  {
   "cell_type": "markdown",
   "id": "fa608635",
   "metadata": {},
   "source": [
    "Q7. Blood type records of different blood types A,B,AB,OO and O"
   ]
  },
  {
   "cell_type": "code",
   "execution_count": 22,
   "id": "87460e8b",
   "metadata": {},
   "outputs": [
    {
     "name": "stdout",
     "output_type": "stream",
     "text": [
      "There are 15 patients of blood type A\n",
      "There is one patient of blood type B\n",
      "There are 13 patients of blood type AB\n",
      "There are 44 patients of blood type O\n",
      "There are no patients of blood type OO\n"
     ]
    }
   ],
   "source": [
    "def bldcount(textFile):\n",
    "\n",
    "    bloodTypeFile = open('bloodtype.txt', \"r\")\n",
    "    allBloodTypes = bloodTypeFile.readlines()\n",
    "    commaSeparatedString = allBloodTypes[0].replace(\" \", \",\")\n",
    "    bloodList = commaSeparatedString.split(\",\")\n",
    "    counterForBloodTypeA = 0\n",
    "    counterForBloodTypeB = 0\n",
    "    counterForBloodTypeAB = 0\n",
    "    counterForBloodTypeO = 0\n",
    "    counterForBloodTypeOO = 0\n",
    "    for elements in bloodList:\n",
    "        if elements == 'A':\n",
    "            counterForBloodTypeA = counterForBloodTypeA + 1\n",
    "        elif elements == 'B':\n",
    "            counterForBloodTypeB = counterForBloodTypeB + 1\n",
    "        elif elements == 'AB':\n",
    "            counterForBloodTypeAB = counterForBloodTypeAB + 1\n",
    "        elif elements == 'OO':\n",
    "            counterForBloodTypeOO = counterForBloodTypeOO + 1\n",
    "        counterForBloodTypeO = counterForBloodTypeO + 1\n",
    "    if counterForBloodTypeA == 0:\n",
    "        print(\"%s%s%s\" % (\"There are \", \"no\", \" patients of blood type A\"))\n",
    "    elif counterForBloodTypeA == 1:\n",
    "        print(\"%s%s%s\" % (\"There is \", \"one\", \" patient of blood type A\"))\n",
    "    else:\n",
    "        print(\"%s%s%s\" % (\"There are \", counterForBloodTypeA, \" patients of blood type A\"))\n",
    "\n",
    "    if counterForBloodTypeB == 0:\n",
    "        print(\"%s%s%s\" % (\"There are \", \"no\", \" patients of blood type B\"))\n",
    "    elif counterForBloodTypeB == 1:\n",
    "        print(\"%s%s%s\" % (\"There is \", \"one\", \" patient of blood type B\"))\n",
    "    else:\n",
    "        print(\"%s%s%s\" % (\"There are \", counterForBloodTypeB, \" patients of blood type B\"))\n",
    "\n",
    "    if counterForBloodTypeAB == 0:\n",
    "        print(\"%s%s%s\" % (\"There are \", \"no\", \" patients of blood type AB\"))\n",
    "    elif counterForBloodTypeAB == 1:\n",
    "        print(\"%s%s%s\" % (\"There is \", \"one\", \" patient of blood type AB\"))\n",
    "    else:\n",
    "        print(\"%s%s%s\" % (\"There are \", counterForBloodTypeAB, \" patients of blood type AB\"))\n",
    "\n",
    "    if counterForBloodTypeO == 0:\n",
    "        print(\"%s%s%s\" % (\"There are \", \"no\", \" patients of blood type O\"))\n",
    "    elif counterForBloodTypeO == 1:\n",
    "        print(\"%s%s%s\" % (\"There is \", \"one\", \" patient of blood type O\"))\n",
    "    else:\n",
    "        print(\"%s%s%s\" % (\"There are \", counterForBloodTypeO, \" patients of blood type O\"))\n",
    "\n",
    "    if counterForBloodTypeOO == 0:\n",
    "        print(\"%s%s%s\" % (\"There are \", \"no\", \" patients of blood type OO\"))\n",
    "    elif counterForBloodTypeOO == 1:\n",
    "        print(\"%s%s%s\" % (\"There is \", \"one\", \" patient of blood type OO\"))\n",
    "    else:\n",
    "        print(\"%s%s%s\" % (\"There are \", counterForBloodTypeOO, \" patients of blood type OO\"))\n",
    "bldcount(\"bloodtype.txt\")"
   ]
  },
  {
   "cell_type": "markdown",
   "id": "b7a5009d",
   "metadata": {},
   "source": [
    "Q8. Write a function curncov() that takes input\n",
    "A currency representated JPY or EUR as example\n",
    "and an amount"
   ]
  },
  {
   "cell_type": "code",
   "execution_count": 25,
   "id": "47e325c9",
   "metadata": {},
   "outputs": [
    {
     "name": "stdout",
     "output_type": "stream",
     "text": [
      "1.241401\n",
      "122.96544\n"
     ]
    }
   ],
   "source": [
    "file = open('currencies.txt', 'r')\n",
    "currencyList = []\n",
    "for one in file:\n",
    "    currencyList.append(one)\n",
    "\n",
    "\n",
    "resultant = 0\n",
    "def curconv(currencyUnit, currencyConversion):\n",
    "    for oneArray in currencyList:\n",
    "        if oneArray[0:3] == currencyUnit:\n",
    "            print(float(oneArray.split()[1]) * currencyConversion)\n",
    "\n",
    "curconv(\"JPY\", 100)\n",
    "curconv(\"EUR\", 100)"
   ]
  },
  {
   "cell_type": "markdown",
   "id": "6a7fc038",
   "metadata": {},
   "source": [
    "Q9. Incompatible Types identification"
   ]
  },
  {
   "cell_type": "markdown",
   "id": "a873223f",
   "metadata": {},
   "source": [
    "6 + 'a'\n",
    "TypeError: unsupported operand type(s) for +: 'int' and 'str'\n",
    "\n",
    "secondValue = [1,2,3,4,5,6,7,8,9,10,11,12]\n",
    "print(secondValue[12])\n",
    "IndexError: list index out of range\n",
    "\n",
    "print(math.sqrt(-1.0))\n",
    "ValueError: math domain error\n",
    "\n",
    "print(x)\n",
    "NameError: name 'x' is not defined\n",
    "\n",
    "bloodTypeFile = open('bllod.txt', \"r\")\n",
    "FileNotFoundError: No such file or directory: 'bllod.txt'"
   ]
  },
  {
   "cell_type": "markdown",
   "id": "95e29bfb",
   "metadata": {},
   "source": [
    "Q10. Encryption code. Build a table of Letter frequencies"
   ]
  },
  {
   "cell_type": "code",
   "execution_count": 12,
   "id": "e7c02ba8",
   "metadata": {},
   "outputs": [
    {
     "data": {
      "text/plain": [
       "[1, 0, 0, 0, 1, 0, 0, 0, 0, 0, 0, 1, 0, 0, 0, 2, 0, 0, 0, 0, 0, 0, 0, 0, 0, 0]"
      ]
     },
     "execution_count": 12,
     "metadata": {},
     "output_type": "execute_result"
    }
   ],
   "source": [
    "allAlphabets = \"abcdefghijklmnopqrstuvwxyz\"\n",
    "checkedVariable = \"apple\"\n",
    "globalCounter = []\n",
    "\n",
    "def frequencies(element):\n",
    "    for eachOne in allAlphabets:\n",
    "        counter = 0;\n",
    "        for oneByOneCheck in checkedVariable:\n",
    "            if eachOne == oneByOneCheck:\n",
    "                counter = counter + 1\n",
    "        globalCounter.append(counter)\n",
    "    return globalCounter\n",
    "frequencies(\"apple\")"
   ]
  },
  {
   "cell_type": "code",
   "execution_count": null,
   "id": "e51164eb",
   "metadata": {},
   "outputs": [],
   "source": []
  }
 ],
 "metadata": {
  "kernelspec": {
   "display_name": "Python 3 (ipykernel)",
   "language": "python",
   "name": "python3"
  },
  "language_info": {
   "codemirror_mode": {
    "name": "ipython",
    "version": 3
   },
   "file_extension": ".py",
   "mimetype": "text/x-python",
   "name": "python",
   "nbconvert_exporter": "python",
   "pygments_lexer": "ipython3",
   "version": "3.9.12"
  }
 },
 "nbformat": 4,
 "nbformat_minor": 5
}
