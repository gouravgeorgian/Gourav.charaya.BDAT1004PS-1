{
 "cells": [
  {
   "cell_type": "markdown",
   "id": "3490cbd9",
   "metadata": {},
   "source": [
    "Question 1 - Data types identification?"
   ]
  },
  {
   "cell_type": "markdown",
   "id": "0a0f3ce3",
   "metadata": {},
   "source": [
    "1. 5 = INTEGER\n",
    "2. 5.0 = FLOAT\n",
    "3. 5 > 1 = (true)BOOLEAN\n",
    "4. '5' = CHARACTER\n",
    "5. 5 * 2 = (10)INTEGER\n",
    "6. '5' * 2 = (106)INTEGER\n",
    "7. '5' + '2' = (103)INTEGER\n",
    "8. 5/2 = (2)INTEGER\n",
    "9. 5%2 = (1)INTEGER\n",
    "10. {5,2,1} = LIST\n",
    "11. 5 == 3 = false(BOOLEAN)\n",
    "12. Pi = 3.14-- = FLOAT"
   ]
  },
  {
   "cell_type": "markdown",
   "id": "3f5e822a",
   "metadata": {},
   "source": [
    "Q2.A How many letters are there in word \"supercalifragilisticexpialidocious\"\n"
   ]
  },
  {
   "cell_type": "code",
   "execution_count": 16,
   "id": "8a6fef0e",
   "metadata": {},
   "outputs": [
    {
     "name": "stdout",
     "output_type": "stream",
     "text": [
      "34\n"
     ]
    }
   ],
   "source": [
    "string actualWord = \"supercalifragilisticexpialidocious\";\n",
    "Console.WriteLine(actualWord.Length);"
   ]
  },
  {
   "cell_type": "markdown",
   "id": "0b658b1d",
   "metadata": {},
   "source": [
    "Q2.B Does \"supercalifragilisticexpialidocious\" contain \"ice\" as a substring?"
   ]
  },
  {
   "cell_type": "code",
   "execution_count": 21,
   "id": "3d43c462",
   "metadata": {},
   "outputs": [
    {
     "name": "stdout",
     "output_type": "stream",
     "text": [
      "Ice substring found\n"
     ]
    }
   ],
   "source": [
    "string word = \"supercalifragilisticexpialidocious\";\n",
    "string find = \"ice\";\n",
    "int found = 0;\n",
    "for (int counter = 0; counter < word.Length-2; counter++)\n",
    "{\n",
    "\n",
    "    int lastCounter = 3;\n",
    "    if (word.Substring(counter, lastCounter) == find)\n",
    "    {\n",
    "        found++;\n",
    "        lastCounter++;\n",
    "    }\n",
    "\n",
    "}\n",
    "if (found > 0)\n",
    "{\n",
    "    Console.WriteLine(\"Ice substring found\");\n",
    "}\n",
    "else\n",
    "{\n",
    "    Console.WriteLine(\"Ice substring not found\");\n",
    "}\n",
    "\n"
   ]
  },
  {
   "cell_type": "markdown",
   "id": "1cba09d5",
   "metadata": {},
   "source": [
    "Q2.C which of the word is longest \"bababadalgharaghtakamminarronnkonn\",\"supercalifragilisticexpialidocious\" and \"honorificabilitudinitatibus\" "
   ]
  },
  {
   "cell_type": "code",
   "execution_count": 30,
   "id": "f2ae4489",
   "metadata": {},
   "outputs": [
    {
     "name": "stdout",
     "output_type": "stream",
     "text": [
      "first word and second word length is equal\n"
     ]
    }
   ],
   "source": [
    "string firstWord = \"bababadalgharaghtakamminarronnkonn\";\n",
    "string secondWord = \"supercalifragilisticexpialidocious\";\n",
    "string thirdWord = \"honorificabilitudinitatibus\";\n",
    "int lengthOfFirstWord = firstWord.Length;\n",
    "int lengthOfSecondWord = secondWord.Length;\n",
    "int lengthOfThirdWord = thirdWord.Length;\n",
    "\n",
    "    if(lengthOfFirstWord == lengthOfSecondWord && lengthOfSecondWord == lengthOfThirdWord)\n",
    "    {\n",
    "        Console.WriteLine(\"all three words have equal length\");\n",
    "    } else\n",
    "    {\n",
    "        if ((lengthOfFirstWord > lengthOfSecondWord && lengthOfFirstWord > lengthOfThirdWord) || (lengthOfFirstWord == lengthOfSecondWord))\n",
    "        {\n",
    "            if (lengthOfFirstWord == lengthOfSecondWord)\n",
    "            {\n",
    "                Console.WriteLine(\"first word and second word length is equal\");\n",
    "            }\n",
    "            else\n",
    "            {\n",
    "                Console.WriteLine(\"first word has greatest length\");\n",
    "            }\n",
    "        }\n",
    "        else if (lengthOfSecondWord > lengthOfThirdWord && lengthOfSecondWord > lengthOfFirstWord || (lengthOfSecondWord == lengthOfThirdWord))\n",
    "        {\n",
    "            if (lengthOfSecondWord == lengthOfThirdWord)\n",
    "            {\n",
    "                Console.WriteLine(\"second word and third word length is equal\");\n",
    "            }\n",
    "\n",
    "            else\n",
    "            {\n",
    "                Console.WriteLine(\"second word has greatest length\");\n",
    "            }\n",
    "        }\n",
    "        else if (lengthOfThirdWord > lengthOfSecondWord && lengthOfThirdWord > lengthOfFirstWord || (lengthOfThirdWord == lengthOfFirstWord))\n",
    "        {\n",
    "            if (lengthOfFirstWord == lengthOfThirdWord)\n",
    "            {\n",
    "                Console.WriteLine(\"first word and third word length is equal\");\n",
    "            } else\n",
    "            {\n",
    "                Console.WriteLine(\"third word has greatest length\");\n",
    "            }\n",
    "        }\n",
    "    }"
   ]
  },
  {
   "cell_type": "markdown",
   "id": "8e38b936",
   "metadata": {},
   "source": [
    "Q2.D Which composer comes first in the dictionary? \"Berlioz\", \"Borodin\", \"Brian\", \"Bartok\", \"Bellini\", \"Buxtehude\", \"Bernstein\".. WHich one comes last?"
   ]
  },
  {
   "cell_type": "code",
   "execution_count": 1,
   "id": "34b4fea8",
   "metadata": {},
   "outputs": [
    {
     "data": {
      "text/html": [
       "\r\n",
       "<div>\r\n",
       "    <div id='dotnet-interactive-this-cell-98124.Microsoft.DotNet.Interactive.Http.HttpPort' style='display: none'>\r\n",
       "        The below script needs to be able to find the current output cell; this is an easy method to get it.\r\n",
       "    </div>\r\n",
       "    <script type='text/javascript'>\r\n",
       "async function probeAddresses(probingAddresses) {\r\n",
       "    function timeout(ms, promise) {\r\n",
       "        return new Promise(function (resolve, reject) {\r\n",
       "            setTimeout(function () {\r\n",
       "                reject(new Error('timeout'))\r\n",
       "            }, ms)\r\n",
       "            promise.then(resolve, reject)\r\n",
       "        })\r\n",
       "    }\r\n",
       "\r\n",
       "    if (Array.isArray(probingAddresses)) {\r\n",
       "        for (let i = 0; i < probingAddresses.length; i++) {\r\n",
       "\r\n",
       "            let rootUrl = probingAddresses[i];\r\n",
       "\r\n",
       "            if (!rootUrl.endsWith('/')) {\r\n",
       "                rootUrl = `${rootUrl}/`;\r\n",
       "            }\r\n",
       "\r\n",
       "            try {\r\n",
       "                let response = await timeout(1000, fetch(`${rootUrl}discovery`, {\r\n",
       "                    method: 'POST',\r\n",
       "                    cache: 'no-cache',\r\n",
       "                    mode: 'cors',\r\n",
       "                    timeout: 1000,\r\n",
       "                    headers: {\r\n",
       "                        'Content-Type': 'text/plain'\r\n",
       "                    },\r\n",
       "                    body: probingAddresses[i]\r\n",
       "                }));\r\n",
       "\r\n",
       "                if (response.status == 200) {\r\n",
       "                    return rootUrl;\r\n",
       "                }\r\n",
       "            }\r\n",
       "            catch (e) { }\r\n",
       "        }\r\n",
       "    }\r\n",
       "}\r\n",
       "\r\n",
       "function loadDotnetInteractiveApi() {\r\n",
       "    probeAddresses([\"http://10.0.0.72:1032/\", \"http://127.0.0.1:1032/\"])\r\n",
       "        .then((root) => {\r\n",
       "        // use probing to find host url and api resources\r\n",
       "        // load interactive helpers and language services\r\n",
       "        let dotnetInteractiveRequire = require.config({\r\n",
       "        context: '98124.Microsoft.DotNet.Interactive.Http.HttpPort',\r\n",
       "                paths:\r\n",
       "            {\r\n",
       "                'dotnet-interactive': `${root}resources`\r\n",
       "                }\r\n",
       "        }) || require;\r\n",
       "\r\n",
       "            window.dotnetInteractiveRequire = dotnetInteractiveRequire;\r\n",
       "\r\n",
       "            window.configureRequireFromExtension = function(extensionName, extensionCacheBuster) {\r\n",
       "                let paths = {};\r\n",
       "                paths[extensionName] = `${root}extensions/${extensionName}/resources/`;\r\n",
       "                \r\n",
       "                let internalRequire = require.config({\r\n",
       "                    context: extensionCacheBuster,\r\n",
       "                    paths: paths,\r\n",
       "                    urlArgs: `cacheBuster=${extensionCacheBuster}`\r\n",
       "                    }) || require;\r\n",
       "\r\n",
       "                return internalRequire\r\n",
       "            };\r\n",
       "        \r\n",
       "            dotnetInteractiveRequire([\r\n",
       "                    'dotnet-interactive/dotnet-interactive'\r\n",
       "                ],\r\n",
       "                function (dotnet) {\r\n",
       "                    dotnet.init(window);\r\n",
       "                },\r\n",
       "                function (error) {\r\n",
       "                    console.log(error);\r\n",
       "                }\r\n",
       "            );\r\n",
       "        })\r\n",
       "        .catch(error => {console.log(error);});\r\n",
       "    }\r\n",
       "\r\n",
       "// ensure `require` is available globally\r\n",
       "if ((typeof(require) !==  typeof(Function)) || (typeof(require.config) !== typeof(Function))) {\r\n",
       "    let require_script = document.createElement('script');\r\n",
       "    require_script.setAttribute('src', 'https://cdnjs.cloudflare.com/ajax/libs/require.js/2.3.6/require.min.js');\r\n",
       "    require_script.setAttribute('type', 'text/javascript');\r\n",
       "    \r\n",
       "    \r\n",
       "    require_script.onload = function() {\r\n",
       "        loadDotnetInteractiveApi();\r\n",
       "    };\r\n",
       "\r\n",
       "    document.getElementsByTagName('head')[0].appendChild(require_script);\r\n",
       "}\r\n",
       "else {\r\n",
       "    loadDotnetInteractiveApi();\r\n",
       "}\r\n",
       "\r\n",
       "    </script>\r\n",
       "</div>"
      ]
     },
     "metadata": {},
     "output_type": "display_data"
    },
    {
     "name": "stdout",
     "output_type": "stream",
     "text": [
      "First Composer --> Bartok\n",
      "Last Composer --> Buxtehude\n"
     ]
    }
   ],
   "source": [
    "List<string> listOfStrings = new List<string>();\n",
    "listOfStrings.Add(\"Berlioz\");\n",
    "listOfStrings.Add(\"Borodin\");\n",
    "listOfStrings.Add(\"Brian\");\n",
    "listOfStrings.Add(\"Bartok\");\n",
    "listOfStrings.Add(\"Buxtehude\");\n",
    "listOfStrings.Add(\"Bernstein\");\n",
    "listOfStrings.Sort();\n",
    "int lengthOfList = listOfStrings.Count;\n",
    "string firstInTheDictionary = listOfStrings[0];\n",
    "string lastInTheDictionary = listOfStrings[lengthOfList - 1];\n",
    "Console.WriteLine(\"First Composer --> \" + firstInTheDictionary);\n",
    "Console.WriteLine(\"Last Composer --> \" + lastInTheDictionary);"
   ]
  },
  {
   "cell_type": "markdown",
   "id": "3b12f147",
   "metadata": {},
   "source": [
    "Question 3 - Implement function triangleArea(a,b,c) "
   ]
  },
  {
   "cell_type": "code",
   "execution_count": 43,
   "id": "93f3267b",
   "metadata": {},
   "outputs": [
    {
     "name": "stdout",
     "output_type": "stream",
     "text": [
      "1.7320508075688772\n"
     ]
    }
   ],
   "source": [
    "Double resultant = triangleArea(2,2,2);\n",
    "Console.WriteLine(resultant);\n",
    "static Double triangleArea(Double sideOne, Double sideTwo, Double sideThree)\n",
    "{\n",
    "    Double side = (sideOne + sideTwo + sideThree) / 2;\n",
    "    Double heronsFormula = Math.Sqrt(side * (side - sideOne) * (side - sideTwo) * (side - sideThree));\n",
    "    return heronsFormula;\n",
    "}"
   ]
  },
  {
   "cell_type": "markdown",
   "id": "7e48eaaf",
   "metadata": {},
   "source": [
    "Question 4 - Find odd and even?"
   ]
  },
  {
   "cell_type": "code",
   "execution_count": 3,
   "id": "ebf6bacc",
   "metadata": {},
   "outputs": [
    {
     "name": "stdout",
     "output_type": "stream",
     "text": [
      "the even array elements are:\n",
      "42 56 32 \n",
      "the odd array elements are:\n",
      "25 47 "
     ]
    }
   ],
   "source": [
    "//I am first getting the elements in list and then converting to array as the question is asking for separate arrays\n",
    "int[] arrayOfIntegers = new int[5];\n",
    "arrayOfIntegers[0] = 25;\n",
    "arrayOfIntegers[1] = 47;\n",
    "arrayOfIntegers[2] = 42;\n",
    "arrayOfIntegers[3] = 56;\n",
    "arrayOfIntegers[4] = 32;\n",
    "List<int> oddElementsList = new List<int>();\n",
    "List<int> evenElementsList = new List<int>();\n",
    "for (int i = 0; i < arrayOfIntegers.Length; i++)\n",
    "{\n",
    "    if(arrayOfIntegers[i] % 2 == 0)\n",
    "    {\n",
    "        evenElementsList.Add(arrayOfIntegers[i]);\n",
    "    } else\n",
    "    {\n",
    "        oddElementsList.Add(arrayOfIntegers[i]);\n",
    "    }\n",
    "}\n",
    "int[] evenElementsArray = evenElementsList.ToArray();\n",
    "Console.WriteLine(\"the even array elements are:\");\n",
    "foreach (int i in evenElementsArray)\n",
    "{\n",
    "    Console.Write(i + \" \");\n",
    "}\n",
    "Console.WriteLine();\n",
    "int[] oddElementsArray = oddElementsList.ToArray();\n",
    "Console.WriteLine(\"the odd array elements are:\");\n",
    "foreach (int i in oddElementsArray)\n",
    "{\n",
    "    Console.Write(i + \" \");\n",
    "}\n"
   ]
  },
  {
   "cell_type": "markdown",
   "id": "896ea354",
   "metadata": {},
   "source": [
    "Q5.A Write a function inside (x,y,x1,y1,x2,y2) that returns True or False depending upon whether the point (x,y) lies in the rectangle with lower left corner (x1,y1) and upper right corner(x2,y2)"
   ]
  },
  {
   "cell_type": "code",
   "execution_count": 3,
   "id": "f3297bdb",
   "metadata": {},
   "outputs": [
    {
     "name": "stdout",
     "output_type": "stream",
     "text": [
      "True\n",
      "False\n"
     ]
    }
   ],
   "source": [
    "static string inside(float x, float y, float x1, float y1, float x2, float y2)\n",
    "{\n",
    "    if (x > x1 && x < x2 && y > y1 && y < y2)\n",
    "    {\n",
    "        return \"True\";\n",
    "    }\n",
    "    else\n",
    "    {\n",
    "       return \"False\";\n",
    "    }\n",
    "}\n",
    "    \n",
    "string resultant = inside(1, 1, 0, 0, 2, 3);\n",
    "string resultant2 = inside(-1, -1, 0, 0, 2, 3);\n",
    "Console.WriteLine(resultant);\n",
    "Console.WriteLine(resultant2);"
   ]
  },
  {
   "cell_type": "markdown",
   "id": "ae95b03a",
   "metadata": {},
   "source": [
    "Q5.B Use function inside() from part a to write an expression that tests whether the point (1,1) lies in both of the rectangles, one with lower left corner(0.3,0.5) and upper right (1.1,0.7) and other lower left corner (0.5,0.2) and upper right(1.1,2)"
   ]
  },
  {
   "cell_type": "code",
   "execution_count": 1,
   "id": "35b2615a",
   "metadata": {},
   "outputs": [
    {
     "data": {
      "text/html": [
       "\r\n",
       "<div>\r\n",
       "    <div id='dotnet-interactive-this-cell-4422.Microsoft.DotNet.Interactive.Http.HttpPort' style='display: none'>\r\n",
       "        The below script needs to be able to find the current output cell; this is an easy method to get it.\r\n",
       "    </div>\r\n",
       "    <script type='text/javascript'>\r\n",
       "async function probeAddresses(probingAddresses) {\r\n",
       "    function timeout(ms, promise) {\r\n",
       "        return new Promise(function (resolve, reject) {\r\n",
       "            setTimeout(function () {\r\n",
       "                reject(new Error('timeout'))\r\n",
       "            }, ms)\r\n",
       "            promise.then(resolve, reject)\r\n",
       "        })\r\n",
       "    }\r\n",
       "\r\n",
       "    if (Array.isArray(probingAddresses)) {\r\n",
       "        for (let i = 0; i < probingAddresses.length; i++) {\r\n",
       "\r\n",
       "            let rootUrl = probingAddresses[i];\r\n",
       "\r\n",
       "            if (!rootUrl.endsWith('/')) {\r\n",
       "                rootUrl = `${rootUrl}/`;\r\n",
       "            }\r\n",
       "\r\n",
       "            try {\r\n",
       "                let response = await timeout(1000, fetch(`${rootUrl}discovery`, {\r\n",
       "                    method: 'POST',\r\n",
       "                    cache: 'no-cache',\r\n",
       "                    mode: 'cors',\r\n",
       "                    timeout: 1000,\r\n",
       "                    headers: {\r\n",
       "                        'Content-Type': 'text/plain'\r\n",
       "                    },\r\n",
       "                    body: probingAddresses[i]\r\n",
       "                }));\r\n",
       "\r\n",
       "                if (response.status == 200) {\r\n",
       "                    return rootUrl;\r\n",
       "                }\r\n",
       "            }\r\n",
       "            catch (e) { }\r\n",
       "        }\r\n",
       "    }\r\n",
       "}\r\n",
       "\r\n",
       "function loadDotnetInteractiveApi() {\r\n",
       "    probeAddresses([\"http://10.250.22.107:1039/\", \"http://127.0.0.1:1039/\"])\r\n",
       "        .then((root) => {\r\n",
       "        // use probing to find host url and api resources\r\n",
       "        // load interactive helpers and language services\r\n",
       "        let dotnetInteractiveRequire = require.config({\r\n",
       "        context: '4422.Microsoft.DotNet.Interactive.Http.HttpPort',\r\n",
       "                paths:\r\n",
       "            {\r\n",
       "                'dotnet-interactive': `${root}resources`\r\n",
       "                }\r\n",
       "        }) || require;\r\n",
       "\r\n",
       "            window.dotnetInteractiveRequire = dotnetInteractiveRequire;\r\n",
       "\r\n",
       "            window.configureRequireFromExtension = function(extensionName, extensionCacheBuster) {\r\n",
       "                let paths = {};\r\n",
       "                paths[extensionName] = `${root}extensions/${extensionName}/resources/`;\r\n",
       "                \r\n",
       "                let internalRequire = require.config({\r\n",
       "                    context: extensionCacheBuster,\r\n",
       "                    paths: paths,\r\n",
       "                    urlArgs: `cacheBuster=${extensionCacheBuster}`\r\n",
       "                    }) || require;\r\n",
       "\r\n",
       "                return internalRequire\r\n",
       "            };\r\n",
       "        \r\n",
       "            dotnetInteractiveRequire([\r\n",
       "                    'dotnet-interactive/dotnet-interactive'\r\n",
       "                ],\r\n",
       "                function (dotnet) {\r\n",
       "                    dotnet.init(window);\r\n",
       "                },\r\n",
       "                function (error) {\r\n",
       "                    console.log(error);\r\n",
       "                }\r\n",
       "            );\r\n",
       "        })\r\n",
       "        .catch(error => {console.log(error);});\r\n",
       "    }\r\n",
       "\r\n",
       "// ensure `require` is available globally\r\n",
       "if ((typeof(require) !==  typeof(Function)) || (typeof(require.config) !== typeof(Function))) {\r\n",
       "    let require_script = document.createElement('script');\r\n",
       "    require_script.setAttribute('src', 'https://cdnjs.cloudflare.com/ajax/libs/require.js/2.3.6/require.min.js');\r\n",
       "    require_script.setAttribute('type', 'text/javascript');\r\n",
       "    \r\n",
       "    \r\n",
       "    require_script.onload = function() {\r\n",
       "        loadDotnetInteractiveApi();\r\n",
       "    };\r\n",
       "\r\n",
       "    document.getElementsByTagName('head')[0].appendChild(require_script);\r\n",
       "}\r\n",
       "else {\r\n",
       "    loadDotnetInteractiveApi();\r\n",
       "}\r\n",
       "\r\n",
       "    </script>\r\n",
       "</div>"
      ]
     },
     "metadata": {},
     "output_type": "display_data"
    },
    {
     "name": "stdout",
     "output_type": "stream",
     "text": [
      "False\n",
      "True\n"
     ]
    }
   ],
   "source": [
    "static string inside(double x, double y, double x1, double y1, double x2, double y2)\n",
    "{\n",
    "    if (x > x1 && x < x2 && y > y1 && y < y2)\n",
    "    {\n",
    "        return \"True\";\n",
    "    }\n",
    "    else\n",
    "    {\n",
    "       return \"False\";\n",
    "    }\n",
    "}\n",
    "    \n",
    "string resultant = inside(1, 1, 0.3, 0.5, 1.1, 0.7);\n",
    "string resultant2 = inside(1, 1, 0.5, 0.2, 1.1, 2);\n",
    "Console.WriteLine(resultant);\n",
    "Console.WriteLine(resultant2);"
   ]
  },
  {
   "cell_type": "code",
   "execution_count": null,
   "id": "74e80b03",
   "metadata": {},
   "outputs": [],
   "source": []
  }
 ],
 "metadata": {
  "kernelspec": {
   "display_name": ".NET (C#)",
   "language": "C#",
   "name": ".net-csharp"
  },
  "language_info": {
   "file_extension": ".cs",
   "mimetype": "text/x-csharp",
   "name": "C#",
   "pygments_lexer": "csharp",
   "version": "8.0"
  }
 },
 "nbformat": 4,
 "nbformat_minor": 5
}
